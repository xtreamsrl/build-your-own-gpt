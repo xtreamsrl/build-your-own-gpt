{
 "cells": [
  {
   "cell_type": "code",
   "execution_count": 3,
   "id": "4d9ea9ad-6919-495e-8bf8-4b02bd922783",
   "metadata": {},
   "outputs": [],
   "source": [
    "import pickle\n",
    "import torch\n",
    "\n",
    "import sys\n",
    "sys.path.append(\"..\")\n",
    "from src.model import GPTLanguageModel, TransformerBlock, MultiHeadAttention, FeedForward, Head\n",
    "from src.tokenizer import Tokenizer\n",
    "from src.utils import get_device"
   ]
  },
  {
   "cell_type": "code",
   "execution_count": 4,
   "id": "d9ad8feb-9f2f-458e-9135-2b1d07095931",
   "metadata": {},
   "outputs": [],
   "source": [
    "device = get_device()"
   ]
  },
  {
   "cell_type": "code",
   "execution_count": 7,
   "id": "9811818e-451b-4018-935c-e59c06099a7d",
   "metadata": {},
   "outputs": [],
   "source": [
    "with open(\"../model/model.pkl\", \"rb\") as f:\n",
    "    gpt_model = pickle.load(f)\n",
    "    gpt_model.to(device)"
   ]
  },
  {
   "cell_type": "code",
   "execution_count": 8,
   "id": "66f1f456-5f77-4f34-895e-74581b24f437",
   "metadata": {},
   "outputs": [],
   "source": [
    "with open(\"../model/tokenizer.pkl\", \"rb\") as f:\n",
    "    tokenizer = pickle.load(f)"
   ]
  },
  {
   "cell_type": "code",
   "execution_count": 9,
   "id": "812f2b67-7e89-4a70-8700-7b2fd85e7601",
   "metadata": {},
   "outputs": [
    {
     "name": "stdout",
     "output_type": "stream",
     "text": [
      "\n",
      "\n",
      "Yet on miscourse.\n",
      "\n",
      "EDWARD:\n",
      "Come up friend at Montague, queen.\n",
      "\n",
      "ROMEO:\n",
      "Ay, my lord; for what fly virtue?\n",
      "\n",
      "CLAUMERDIFF:\n",
      "Not lie outrant your place in struth:\n",
      "At friends. Fear Marcius Methonesty do I.\n",
      "\n",
      "SAMPSON:\n",
      "Is then dee-cousin! O ne promisemble;\n",
      "So limentio, sir as this can shall to meetle so much.\n",
      "\n",
      "MERCUTIO:\n",
      "Romeo, being, am Cacusant's soon, you weight,\n",
      "He had Juliet.\n",
      "\n",
      "MERCUTIO:\n",
      "And warran see Rome. We attend!\n",
      "\n",
      "urRENCE:\n",
      "Say, his meanisgoly, clining is forbed shed that;\n",
      "And be welcome, no more pet.\n",
      "Upon the bine, Lord, and obsorth in thempt the city.\n",
      "\n",
      "First Murderer:\n",
      "Yield! and Make contract me; art moforth tell\n",
      "The duke unfrustrance to spirit him do the burn comise: Siction\n",
      "will art brother, and stouble in what?\n",
      "\n",
      "COMINIUS:\n",
      "The cannot again, and I is.\n",
      "\n",
      "CORIOLANUS:\n",
      "Sir, beath? by an intent of mine conquest.\n",
      "The imagine and wird himself.\n",
      "A To be now in Rominutes? Well, him i' the England be,\n",
      "His necess perhooad, might of any sight want,\n",
      "And by our medisposity stree, takest, there in\n",
      "Amends to almost the complimage vills.\n",
      "\n",
      "Which almost I from touch'd me? how are strong at Friar\n",
      "Nakeliaght the city of finish. O, cousince senate und pastured\n",
      "To be the warreign of man's presenaguished' to be for me.\n",
      "\n",
      "ROMEO:\n",
      "Sister? She, with heavil! and friends great waitely\n",
      "Frelor pers and gentlemand will I am good Mowbray.\n",
      "\n",
      "ROMEO:\n",
      "Manisres't them be trimation.\n",
      "\n",
      "ROMEO:\n",
      "Mocstant! time, for that dave to hear me hath ale.\n",
      "He sat would I am gentlew himself, before, consul,\n",
      "For if it they have could meed.\n",
      "Tender not there keyp.\n",
      "\n",
      "First Gentleman:\n",
      "Her cound thoses roversar, thereof, arm your more.\n",
      "\n",
      "LARRTIUS:\n",
      "Ay, fair true.\n",
      "\n",
      "LARTINA:\n",
      "Vouchsn, to arona, I had\n",
      "Petent us. But to go have justiAne:\n",
      "A race of you here, here! I acquick in\n",
      "Throw your high and ower: My ordereisue of way\n",
      "Than you, come; but to-day do let not\n",
      "to the qust all one\n",
      "Lating. What beloved to me?\n",
      "\n",
      "First Senator:\n",
      "That's give me, long: let appaite,\n",
      "By all terror.\n",
      "\n",
      "MOPALAUS:\n",
      "That is shall be were force, make son!\n",
      "\n",
      "Sir\n",
      "THAMILF:\n",
      "No G\n"
     ]
    }
   ],
   "source": [
    "context = torch.zeros((1, 1), dtype=torch.long, device=device)\n",
    "generated_text = tokenizer.decode(gpt_model.generate(context, max_new_tokens=2000)[0].tolist())\n",
    "print(generated_text)"
   ]
  },
  {
   "cell_type": "code",
   "execution_count": null,
   "id": "b7262a9d-673c-4a64-ba7f-0e81e055f1f7",
   "metadata": {},
   "outputs": [],
   "source": []
  }
 ],
 "metadata": {
  "kernelspec": {
   "display_name": "Python 3 (ipykernel)",
   "language": "python",
   "name": "python3"
  },
  "language_info": {
   "codemirror_mode": {
    "name": "ipython",
    "version": 3
   },
   "file_extension": ".py",
   "mimetype": "text/x-python",
   "name": "python",
   "nbconvert_exporter": "python",
   "pygments_lexer": "ipython3",
   "version": "3.11.4"
  }
 },
 "nbformat": 4,
 "nbformat_minor": 5
}
