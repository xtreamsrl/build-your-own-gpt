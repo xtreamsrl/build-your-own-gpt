{
 "cells": [
  {
   "cell_type": "code",
   "execution_count": null,
   "id": "4d9ea9ad-6919-495e-8bf8-4b02bd922783",
   "metadata": {},
   "outputs": [],
   "source": [
    "import pickle\n",
    "import torch\n",
    "from model import GPTLanguageModel"
   ]
  },
  {
   "cell_type": "code",
   "execution_count": null,
   "id": "9811818e-451b-4018-935c-e59c06099a7d",
   "metadata": {},
   "outputs": [],
   "source": [
    "with open(\"model/model.pkl\", \"rb\") as f:\n",
    "    gpt_model = pickle.load(f)"
   ]
  },
  {
   "cell_type": "code",
   "execution_count": null,
   "id": "d9ad8feb-9f2f-458e-9135-2b1d07095931",
   "metadata": {},
   "outputs": [],
   "source": [
    "def get_device():\n",
    "    return 'cuda' if torch.cuda.is_available() else 'mps' if torch.backends.mps.is_available() else 'cpu'\n",
    "\n",
    "device = get_device()"
   ]
  },
  {
   "cell_type": "code",
   "execution_count": null,
   "id": "812f2b67-7e89-4a70-8700-7b2fd85e7601",
   "metadata": {},
   "outputs": [],
   "source": [
    "context = torch.zeros((1, 1), dtype=torch.long, device=device)\n",
    "generated_text = decode(model.generate(context, max_new_tokens=2000)[0].tolist())\n",
    "print(generated_text)"
   ]
  }
 ],
 "metadata": {
  "kernelspec": {
   "display_name": "Python 3 (ipykernel)",
   "language": "python",
   "name": "python3"
  },
  "language_info": {
   "codemirror_mode": {
    "name": "ipython",
    "version": 3
   },
   "file_extension": ".py",
   "mimetype": "text/x-python",
   "name": "python",
   "nbconvert_exporter": "python",
   "pygments_lexer": "ipython3",
   "version": "3.11.4"
  }
 },
 "nbformat": 4,
 "nbformat_minor": 5
}
